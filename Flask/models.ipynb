{
 "cells": [
  {
   "cell_type": "code",
   "execution_count": null,
   "id": "9145c79f",
   "metadata": {},
   "outputs": [],
   "source": [
    "from flask import Flask\n",
    "from flask_sqlalchemy import SQLAlchemy\n",
    "db = SQLAlchemy()\n",
    "\n",
    "class Member(db.Model):\n",
    "    id = db.Column(db.Integer, primary_key=True)\n",
    "    name = db.Column(db.String(20), nullable=False)\n",
    "    age = db.Column(db.Integer, nullable=False)\n",
    "\n",
    "    def __init__(self, name, age):\n",
    "        self.name = name\n",
    "        self.age = age\n",
    "        \n",
    "app = Flask(__name__)\n",
    "db.init_app(app)\n",
    "\n",
    "@app.route(\"/\")\n",
    "def home():\n",
    "    member = Member(\"Elice\", 15)\n",
    "    db_session.add(member)\n",
    "    member1 = Member(\"Dodo\", 16)\n",
    "    db_session.add(member1)\n",
    "    member2 = Member(\"Cheshire\", 17)  \n",
    "    db_session.add(member2)\n",
    "    member3 = Member(\"Queen\", 18)\n",
    "    db_session.add(member3)\n",
    "    \n",
    "    db.session.commit()\n",
    "    return \"Hello\"\n",
    "\n",
    "# @app.route(\"/check\")\n",
    "# def check():\n",
    "#     data = db.session.query(Member).all()\n",
    "#     return data\n",
    "\n",
    "if __name__ == '__main__':\n",
    "    app.run(debug=True)"
   ]
  },
  {
   "cell_type": "code",
   "execution_count": 1,
   "id": "232c945b",
   "metadata": {},
   "outputs": [
    {
     "name": "stdout",
     "output_type": "stream",
     "text": [
      " * Serving Flask app \"__main__\" (lazy loading)\n",
      " * Environment: production\n",
      "   WARNING: This is a development server. Do not use it in a production deployment.\n",
      "   Use a production WSGI server instead.\n",
      " * Debug mode: on\n"
     ]
    },
    {
     "name": "stderr",
     "output_type": "stream",
     "text": [
      " * Restarting with windowsapi reloader\n"
     ]
    },
    {
     "ename": "SystemExit",
     "evalue": "1",
     "output_type": "error",
     "traceback": [
      "An exception has occurred, use %tb to see the full traceback.\n",
      "\u001b[1;31mSystemExit\u001b[0m\u001b[1;31m:\u001b[0m 1\n"
     ]
    },
    {
     "name": "stderr",
     "output_type": "stream",
     "text": [
      "C:\\Users\\chahn\\anaconda3\\lib\\site-packages\\IPython\\core\\interactiveshell.py:3445: UserWarning: To exit: use 'exit', 'quit', or Ctrl-D.\n",
      "  warn(\"To exit: use 'exit', 'quit', or Ctrl-D.\", stacklevel=1)\n"
     ]
    }
   ],
   "source": [
    "from flask import Flask\n",
    "\n",
    "app = Flask(__name__)\n",
    "\n",
    "@app.route(\"/\")\n",
    "def home():\n",
    "    member = Member(\"Elice\", 15)\n",
    "    db_session.add(member)\n",
    "    member1 = Member(\"Dodo\", 16)\n",
    "    db_session.add(member1)\n",
    "    member2 = Member(\"Cheshire\", 17)  \n",
    "    db_session.add(member2)\n",
    "    member3 = Member(\"Queen\", 18)\n",
    "    db_session.add(member3)\n",
    "    \n",
    "    db.session.commit()\n",
    "    return \"Hello\"\n",
    "\n",
    "if __name__ == '__main__':\n",
    "    app.run(debug=True)"
   ]
  },
  {
   "cell_type": "code",
   "execution_count": null,
   "id": "cb6a2465",
   "metadata": {},
   "outputs": [],
   "source": []
  }
 ],
 "metadata": {
  "kernelspec": {
   "display_name": "Python 3",
   "language": "python",
   "name": "python3"
  },
  "language_info": {
   "codemirror_mode": {
    "name": "ipython",
    "version": 3
   },
   "file_extension": ".py",
   "mimetype": "text/x-python",
   "name": "python",
   "nbconvert_exporter": "python",
   "pygments_lexer": "ipython3",
   "version": "3.8.8"
  }
 },
 "nbformat": 4,
 "nbformat_minor": 5
}
