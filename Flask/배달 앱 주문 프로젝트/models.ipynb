{
 "cells": [
  {
   "cell_type": "code",
   "execution_count": 2,
   "id": "6894e1c3",
   "metadata": {},
   "outputs": [],
   "source": [
    "import enum\n",
    "from flask_sqlalchemy import SQLAlchemy\n",
    "db = SQLAlchemy()\n",
    "\n",
    "class OrderMethod(enum.Enum):\n",
    "    card = \"card\"\n",
    "    cash = \"cash\"\n",
    "\n",
    "# 지시사항 1번을 참고하여 코드를 작성하세요.\n",
    "class User(db.Model):\n",
    "    id = db.Column(db.String(10), primary_key= True)\n",
    "    delivery_address =db.Column(db.String(100), nullable=False)\n",
    "    order_method = db.Column(db.Enum(OrderMethod), nullable=False)\n",
    "    \n",
    "    def __init__(self, id, delivery_address, order_method):\n",
    "        self.id = id\n",
    "        self.delivery_address = delivery_address\n",
    "        self.order_method = order_method\n",
    "\n",
    "class Store(db.Model):\n",
    "    id =db.Column(db.String(30), primary_key= True)\n",
    "    store_address = db.Column(db.String(100), nullable=False)\n",
    "    contact_number = db.Column(db.String(14), nullable=False)\n",
    "    \n",
    "    def __init__(self, id, store_address, contact_number):\n",
    "        self.id = id\n",
    "        self.store_address = store_address\n",
    "        self.contact_number = contact_number\n",
    "\n",
    "class DeliveryOrder(db.Model):\n",
    "    id = db.Column(db.Integer, primary_key=True, autoincrement=True)\n",
    "    user_id = db.Column(db.String(10), nullable=False)\n",
    "    store_id = db.Column(db.String(30), nullable=False)\n",
    "    total_price = db.Column(db.Integer, nullable=False)\n",
    "    delivery_fee =db.Column(db.Integer, nullable=False)\n",
    "    order_dt = db.Column(db.DateTime, nullable=False)\n",
    "    order_method = db.Column(db.Enum(OrderMethod), nullable=False)\n",
    "    delivery_address = db.Column(db.String(100), nullable=False)\n",
    "\n",
    "    def __init__(self, user_id, store_id, total_price, delivery_fee, order_method, delivery_address):\n",
    "        self.user_id = user_id\n",
    "        self.store_id = store_id\n",
    "        self.total_price = total_price\n",
    "        self.delivery_fee = delivery_fee\n",
    "        self.order_method = order_method\n",
    "        self.delivery_address = delivery_address"
   ]
  },
  {
   "cell_type": "code",
   "execution_count": null,
   "id": "6faf8a0f",
   "metadata": {},
   "outputs": [],
   "source": []
  }
 ],
 "metadata": {
  "kernelspec": {
   "display_name": "Python 3",
   "language": "python",
   "name": "python3"
  },
  "language_info": {
   "codemirror_mode": {
    "name": "ipython",
    "version": 3
   },
   "file_extension": ".py",
   "mimetype": "text/x-python",
   "name": "python",
   "nbconvert_exporter": "python",
   "pygments_lexer": "ipython3",
   "version": "3.8.8"
  }
 },
 "nbformat": 4,
 "nbformat_minor": 5
}
