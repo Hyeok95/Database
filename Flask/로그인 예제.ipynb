{
 "cells": [
  {
   "cell_type": "markdown",
   "id": "9e52b8f5",
   "metadata": {},
   "source": [
    "## Authentication\n",
    "\n",
    "Authentication이란 사용자가 누구인지 확인하는 절차를 말합니다.\n",
    "→ 회원가입하고 로그인하는 과정\n",
    "\n",
    "\n",
    "## 로그인 기능 구현\n",
    "1. 쿠키 = 클라이언트에 저장되는 키/값이 들어 있는 데이터\n",
    "\n",
    "(사용자가 따로 요청하지 않아도, request 시에 자동으로 서버에 전송한다.)\n",
    "\n",
    "2. 세션 = 쿠키를 기반으로 하지만 서버 측에서 관리하는 데이터\n",
    "\n",
    "(클라이언트에 고유ID를 부여하고 클라이언트에 알맞은 서비스를 제공합니다.)"
   ]
  },
  {
   "cell_type": "code",
   "execution_count": 7,
   "id": "b422a4f1",
   "metadata": {},
   "outputs": [
    {
     "name": "stdout",
     "output_type": "stream",
     "text": [
      " * Serving Flask app \"__main__\" (lazy loading)\n",
      " * Environment: production\n",
      "   WARNING: This is a development server. Do not use it in a production deployment.\n",
      "   Use a production WSGI server instead.\n",
      " * Debug mode: off\n"
     ]
    },
    {
     "name": "stderr",
     "output_type": "stream",
     "text": [
      " * Running on http://127.0.0.1:5000/ (Press CTRL+C to quit)\n",
      "127.0.0.1 - - [28/Sep/2021 11:20:21] \"\u001b[31m\u001b[1mGET / HTTP/1.1\u001b[0m\" 400 -\n"
     ]
    }
   ],
   "source": [
    "from flask import Flask, render_template, request, session,redirect\n",
    "\n",
    "app = Flask(__name__)\n",
    "\n",
    "@app.route(\"/\")\n",
    "def login():\n",
    "    user_id = request.form['user_id']\n",
    "    user_pw = request.form['user_pw']\n",
    "    user ={'user_id': 'elice', 'user_pw': '1234'}\n",
    "\n",
    "    if user is not None:\n",
    "        if user_id == user['user_id'] and user_pw == user['user_pw']:\n",
    "            session['login'] = user.id\n",
    "            return jsonify({\"result\":\"success\"})\n",
    "        else:\n",
    "            return jsonify({\"result\":\"fail\"})\n",
    "        \n",
    "if __name__ == \"__main__\":\n",
    "    app.run()"
   ]
  },
  {
   "cell_type": "code",
   "execution_count": null,
   "id": "f19f2459",
   "metadata": {},
   "outputs": [],
   "source": [
    "import logging\n",
    "\n",
    "if __name__ == '__main__':\n",
    "    logger = logging.getLogger()\n",
    "    logger.setlevel(logging.DEBUG)\n",
    "    logger.info(\"hello elice!\")"
   ]
  },
  {
   "cell_type": "code",
   "execution_count": null,
   "id": "0e82dd80",
   "metadata": {},
   "outputs": [],
   "source": [
    "from flask import Flask\n",
    "import logging\n",
    "app = Flask(__name__)\n",
    "\n",
    "if __name__ == '__main__':\n",
    "    app.logger.info(\"test\")\n",
    "    app.logger.debug(\"debug test\")\n",
    "    app,logger.error(\"error test\")\n",
    "    app,run()"
   ]
  },
  {
   "cell_type": "code",
   "execution_count": null,
   "id": "b481744b",
   "metadata": {},
   "outputs": [
    {
     "name": "stdout",
     "output_type": "stream",
     "text": [
      " * Serving Flask app \"__main__\" (lazy loading)\n",
      " * Environment: production\n",
      "   WARNING: This is a development server. Do not use it in a production deployment.\n",
      "   Use a production WSGI server instead.\n",
      " * Debug mode: off\n"
     ]
    },
    {
     "name": "stderr",
     "output_type": "stream",
     "text": [
      " * Running on http://127.0.0.1:5000/ (Press CTRL+C to quit)\n"
     ]
    }
   ],
   "source": [
    "from flask import *\n",
    "app = Flask(__name__)\n",
    "\n",
    "@app.route('/')\n",
    "def deco():\n",
    "    return \"hello world\"\n",
    "\n",
    "if __name__ == \"__main__\":\n",
    "    app.run()"
   ]
  },
  {
   "cell_type": "code",
   "execution_count": null,
   "id": "3165fccf",
   "metadata": {},
   "outputs": [],
   "source": []
  }
 ],
 "metadata": {
  "kernelspec": {
   "display_name": "Python 3",
   "language": "python",
   "name": "python3"
  },
  "language_info": {
   "codemirror_mode": {
    "name": "ipython",
    "version": 3
   },
   "file_extension": ".py",
   "mimetype": "text/x-python",
   "name": "python",
   "nbconvert_exporter": "python",
   "pygments_lexer": "ipython3",
   "version": "3.8.8"
  }
 },
 "nbformat": 4,
 "nbformat_minor": 5
}
