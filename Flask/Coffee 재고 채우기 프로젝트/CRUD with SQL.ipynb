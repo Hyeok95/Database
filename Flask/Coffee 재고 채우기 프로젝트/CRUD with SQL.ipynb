{
 "cells": [
  {
   "cell_type": "code",
   "execution_count": null,
   "id": "d7091e37",
   "metadata": {},
   "outputs": [
    {
     "name": "stdout",
     "output_type": "stream",
     "text": [
      " * Serving Flask app \"__main__\" (lazy loading)\n",
      " * Environment: production\n",
      "   WARNING: This is a development server. Do not use it in a production deployment.\n",
      "   Use a production WSGI server instead.\n",
      " * Debug mode: off\n"
     ]
    },
    {
     "name": "stderr",
     "output_type": "stream",
     "text": [
      " * Running on http://127.0.0.1:5000/ (Press CTRL+C to quit)\n"
     ]
    }
   ],
   "source": [
    "from flask import Flask, jsonify, request\n",
    "import sqlite3\n",
    "\n",
    "app = Flask(__name__)\n",
    "\n",
    "con = sqlite3.connect('database.db')\n",
    "con.execute(\"CREATE TABLE IF NOT EXISTS coffee(id Integer, name Text, price Integer, stock Integer)\")\n",
    "con.commit()\n",
    "con.close()\n",
    "\n",
    "#create\n",
    "@app.route('/coffee', methods=['POST'])\n",
    "def create_coffee():\n",
    "    #form에서 데이터 가져오기\n",
    "    new_id = request.form.get('id')\n",
    "    new_name = request.form.get('name')\n",
    "    new_price = request.form.get('price')\n",
    "    new_stock = request.form.get('stock')\n",
    "    \n",
    "    #가져온 데이터를 DB에 추가하기\n",
    "    con = sqlite3.connect('database.db')\n",
    "    con.execute(\"INSERT INTO coffee(id,name,price,stock) VALUES({},'{}', {}, {})\".format(new_id, new_name, new_price, new_stock))\n",
    "    con.commit()\n",
    "    con.close()\n",
    "    return redirect(url_for('read_coffee'))\n",
    "    \n",
    "#read\n",
    "@app.route('/coffee')\n",
    "def read_coffee():\n",
    "    con = sqlite3.connect('database.db')\n",
    "    cur = con.cursor()\n",
    "    cur.execute(\"SELECT * FROM coffee\")\n",
    "    datas = cur.fetchall()\n",
    "    con.close()\n",
    "    \n",
    "    result = []\n",
    "    for data in datas: #[id, name, price, stock]\n",
    "        new_dict = {\n",
    "            \"id\": data[0],\n",
    "            \"name\": data[1],\n",
    "            \"price\": data[2],\n",
    "            \"stock\": data[3]\n",
    "        }\n",
    "        result.append(new_dict)\n",
    "    return jsonify({\"data\" : result})\n",
    "    \n",
    "\n",
    "#update\n",
    "@app.route('/coffee/update/<int:id>', methods=['POST'])\n",
    "def update_coffee():\n",
    "    \n",
    "    \n",
    "#delete\n",
    "@app.route('/coffee/delete/<int:id>', methods=['POST'])\n",
    "def delete_coffee():\n",
    "    pass\n",
    "\n",
    "if __name__== \"__main__\":\n",
    "    app.run(debug=True)"
   ]
  },
  {
   "cell_type": "code",
   "execution_count": null,
   "id": "279d3103",
   "metadata": {},
   "outputs": [],
   "source": []
  }
 ],
 "metadata": {
  "kernelspec": {
   "display_name": "Python 3",
   "language": "python",
   "name": "python3"
  },
  "language_info": {
   "codemirror_mode": {
    "name": "ipython",
    "version": 3
   },
   "file_extension": ".py",
   "mimetype": "text/x-python",
   "name": "python",
   "nbconvert_exporter": "python",
   "pygments_lexer": "ipython3",
   "version": "3.8.8"
  }
 },
 "nbformat": 4,
 "nbformat_minor": 5
}
