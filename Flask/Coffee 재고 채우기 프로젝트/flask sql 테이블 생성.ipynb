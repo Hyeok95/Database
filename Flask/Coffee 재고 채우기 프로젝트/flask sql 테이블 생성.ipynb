{
 "cells": [
  {
   "cell_type": "code",
   "execution_count": null,
   "id": "3d9faf4c",
   "metadata": {},
   "outputs": [],
   "source": [
    "from flask import Flask, jsonify\n",
    "import sqlite3\n",
    "\n",
    "app = Flask(__name__)\n",
    "'''\n",
    "#SQL을 이용한 DB와의 상호작용 process\n",
    "#1. connect\n",
    "con = sqlite3.connect('database.db')\n",
    "#cursor 설정\n",
    "cur = con.cursor()\n",
    "#3. 쿼리 실행\n",
    "cur.execute(\"SQL Language\")\n",
    "#4. commit\n",
    "con.commit\n",
    "#5. connection 종료\n",
    "con.close()\n",
    "'''\n",
    "#Table 생성\n",
    "con = sqlite3.connect('database.db')\n",
    "con.execute(\"CREATE TABLE IF NOT EXISTS coffee(id Integer, name Text, price Integer, stock Integer)\")\n",
    "\n",
    "datas = [(1, 'Americano', 4100, 10), (2, 'Cafe Latte', 4600, 15), (3, 'Cafe Mocha', 5100, 10)]\n",
    "for data in datas:\n",
    "    con.execute(\"INSERT INTO coffee(id, name, price, stock) VALUES({0}, '{1}', '{2}', '{3}')\".format(data[0], data[1], data[2], data[3]))\n",
    "    # con.execute(f\"INSERT INTO coffee(id, name, price, stock) VALUES('{data[0]}', 'data[1]', data[2], data[3])\")\n",
    "    \n",
    "con.commit()\n",
    "con.close()\n",
    "\n",
    "@app.route(\"/\")\n",
    "def get_coffee():\n",
    "    con = sqlite3.connect(\"database.db\")\n",
    "    #여러개라서 cursor\n",
    "    cur = con.cursor()\n",
    "    cur.execute(\"select * from coffee\")\n",
    "    #모든 결과를 가지고옴.\n",
    "    datas = cur.fetchall()\n",
    "    con.close()\n",
    "    \n",
    "    result = []\n",
    "    for data in datas: #[id, name, price, stock]\n",
    "        new_dict = {\n",
    "            \"id\": data[0],\n",
    "            \"name\": data[1],\n",
    "            \"price\": data[2],\n",
    "            \"stock\": data[3]\n",
    "        }\n",
    "        result.append(new_dict)\n",
    "    return jsonify({\"data\" : result})\n",
    "\n",
    "if __name__ == \"__main__\":\n",
    "    app.run()"
   ]
  },
  {
   "cell_type": "code",
   "execution_count": null,
   "id": "8a2ec5f4",
   "metadata": {},
   "outputs": [],
   "source": []
  }
 ],
 "metadata": {
  "kernelspec": {
   "display_name": "Python 3",
   "language": "python",
   "name": "python3"
  },
  "language_info": {
   "codemirror_mode": {
    "name": "ipython",
    "version": 3
   },
   "file_extension": ".py",
   "mimetype": "text/x-python",
   "name": "python",
   "nbconvert_exporter": "python",
   "pygments_lexer": "ipython3",
   "version": "3.8.8"
  }
 },
 "nbformat": 4,
 "nbformat_minor": 5
}
