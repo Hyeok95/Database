{
 "cells": [
  {
   "cell_type": "code",
   "execution_count": null,
   "id": "35fd8c0a",
   "metadata": {},
   "outputs": [],
   "source": [
    "#models.py"
   ]
  },
  {
   "cell_type": "code",
   "execution_count": null,
   "id": "e29cdbfe",
   "metadata": {},
   "outputs": [],
   "source": [
    "from db_connect import db\n",
    "from datetime import datetime\n",
    "\n",
    "\n",
    "class Post(db.Model):\n",
    "    \n",
    "    __tablename__ = 'post'\n",
    "    \n",
    "    id = db.Column(db.Integer,  primary_key=True,nullable=False,autoincrement=True)\n",
    "    author = db.Column(db.String(256),nullable=False)\n",
    "    content = db.Column(db.Text(), nullable=False)\n",
    "    like=db.Column(db.Integer, default=0)\n",
    "    created_at = db.Column(db.DateTime, default=datetime.utcnow)\n",
    "\n",
    "    def __init__(self,author,content):\n",
    "        self.author = author\n",
    "        self.content = content"
   ]
  }
 ],
 "metadata": {
  "kernelspec": {
   "display_name": "Python 3",
   "language": "python",
   "name": "python3"
  },
  "language_info": {
   "codemirror_mode": {
    "name": "ipython",
    "version": 3
   },
   "file_extension": ".py",
   "mimetype": "text/x-python",
   "name": "python",
   "nbconvert_exporter": "python",
   "pygments_lexer": "ipython3",
   "version": "3.8.8"
  }
 },
 "nbformat": 4,
 "nbformat_minor": 5
}
