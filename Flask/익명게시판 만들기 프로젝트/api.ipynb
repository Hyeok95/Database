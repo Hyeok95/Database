{
 "cells": [
  {
   "cell_type": "code",
   "execution_count": null,
   "id": "513a7327",
   "metadata": {},
   "outputs": [],
   "source": [
    "#api.py"
   ]
  },
  {
   "cell_type": "code",
   "execution_count": null,
   "id": "c31fbe1b",
   "metadata": {},
   "outputs": [],
   "source": [
    "from flask import Blueprint, render_template, jsonify, request\n",
    "from models import Post\n",
    "from db_connect import db\n",
    "\n",
    "board = Blueprint('board',__name__)\n",
    "\n",
    "@board.route(\"/\")\n",
    "def home():\n",
    "    data = Post.query.order_by(Post.created_at.desc()).all()\n",
    "    return render_template('index.html',data=data)\n",
    "    \n",
    "    \n",
    "@board.route(\"/post\",methods=[\"POST\"])\n",
    "def create_post():\n",
    "    content = request.form['content']\n",
    "    author = request.form['author']\n",
    "    post = Post(author,content)\n",
    "    db.session.add(post)\n",
    "    db.session.commit()\n",
    "    return jsonify({'result':'success'})\n",
    "    \n",
    "# 좋아요 기능이 동작하도록 함수를 완성하세요.\n",
    "@board.route(\"/like\",methods=[\"PATCH\"])\n",
    "def update_like():\n",
    "    id = request.form['id']\n",
    "    post = Post.query.filter(Post.id == id).first()\n",
    "    post.like = post.like+1\n",
    "    db.session.commit()\n",
    "    return jsonify({\"result\":\"success\"})"
   ]
  }
 ],
 "metadata": {
  "kernelspec": {
   "display_name": "Python 3",
   "language": "python",
   "name": "python3"
  },
  "language_info": {
   "codemirror_mode": {
    "name": "ipython",
    "version": 3
   },
   "file_extension": ".py",
   "mimetype": "text/x-python",
   "name": "python",
   "nbconvert_exporter": "python",
   "pygments_lexer": "ipython3",
   "version": "3.8.8"
  }
 },
 "nbformat": 4,
 "nbformat_minor": 5
}
