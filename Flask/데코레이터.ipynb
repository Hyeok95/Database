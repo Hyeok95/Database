{
 "cells": [
  {
   "cell_type": "markdown",
   "id": "c67a7bd1",
   "metadata": {},
   "source": [
    "## 데코레이터\n",
    "\n",
    "What is decorator?\n",
    "Flask를 사용하다보면 다음 표현이 나오는데:\n",
    "\n",
    "app.route('/')\n",
    "이를 데코레이터라고 합니다. 이에 대해서 한번 알아봅시다.\n",
    "\n",
    "데코레이터는 장식자라는 뜻으로, 함수를 꾸미는 역할을 합니다. 여기서 꾸민다는 표현은, 어떤 함수의 로직의 앞뒤에 추가적인 로직을 부여하는 것입니다.\n",
    "\n",
    "다음 실습을 진행하면서 데코레이터가 어떻게 동작하는지 이해해봅시다.\n",
    "\n",
    "\n",
    "#### 지시사항\n",
    "* 데코레이터를 만듭니다.\n",
    "* 데코레이터의 이름은 deco 입니다.\n",
    "* 함수를 실행하기 전 “함수 시작”, 함수를 실행한 후 “함수 끝”을 출력합니다.\n",
    "* 데코레이터를 이용해 함수를 선언합니다.\n",
    "* deco 데코레이터를 사용합니다.\n",
    "* 함수 hello_world를 만듭니다. 매개변수와 반환값은 없으며 “Hello World!”를 출력합니다.\n",
    "* 함수를 사용합니다.\n",
    "* 함수 hello_world를 호출합니다."
   ]
  },
  {
   "cell_type": "code",
   "execution_count": 1,
   "id": "41ba5ee9",
   "metadata": {},
   "outputs": [
    {
     "name": "stdout",
     "output_type": "stream",
     "text": [
      "함수 시작\n",
      "Hello World!\n",
      "함수 끝\n"
     ]
    }
   ],
   "source": [
    "def deco(func):                            \n",
    "    def wrapper():\n",
    "        print('함수 시작')    \n",
    "        func()                               \n",
    "        print('함수 끝')\n",
    "    return wrapper                          \n",
    " \n",
    "@deco\n",
    "def hello_world():\n",
    "    print('Hello World!')\n",
    "    \n",
    "hello_world()"
   ]
  },
  {
   "cell_type": "code",
   "execution_count": null,
   "id": "583b752a",
   "metadata": {},
   "outputs": [],
   "source": []
  }
 ],
 "metadata": {
  "kernelspec": {
   "display_name": "Python 3",
   "language": "python",
   "name": "python3"
  },
  "language_info": {
   "codemirror_mode": {
    "name": "ipython",
    "version": 3
   },
   "file_extension": ".py",
   "mimetype": "text/x-python",
   "name": "python",
   "nbconvert_exporter": "python",
   "pygments_lexer": "ipython3",
   "version": "3.8.8"
  }
 },
 "nbformat": 4,
 "nbformat_minor": 5
}
