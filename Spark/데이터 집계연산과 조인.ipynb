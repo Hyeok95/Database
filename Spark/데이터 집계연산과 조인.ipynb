{
 "cells": [
  {
   "cell_type": "markdown",
   "metadata": {},
   "source": [
    "## 집계연산과 조인\n",
    "\n",
    "#### 지시사항\n",
    "\n",
    "* 데이터 읽어오기 : data/trip-data 경로 아래에 있는 201508_station_data.csv, 201508_trip_data.csv 를 읽으세요. header=True 옵션을 주어야 합니다.\n",
    "\n",
    "* station 데이터를 활용하여, landmark별 station_id의 개수(중복제거)를 추출하세요. (group by,countDistinct)\n",
    "\n",
    "* trip 데이터를 활용하여, ‘Subscriber Type’별 ‘Bike #’ 합, ‘Duration’ 평균, ‘Trip ID’ 수를 구하세요.\n",
    "(group by,sum,avg,count)\n",
    "\n",
    "* trip 데이터의 ‘Start Station’ 컬럼을 활용해서, ‘name’ 컬럼을 만들어주세요. 생성한 ‘name’ 컬럼과 station 데이터의 ‘name’ 컬럼을 키로 inner join , left anti을 각각 수행하세요. 마지막으로 select로 ‘name’을 선택하여 중복제거한 카운트가 얼마인지 구하세요."
   ]
  },
  {
   "cell_type": "code",
   "execution_count": 3,
   "metadata": {},
   "outputs": [
    {
     "name": "stdout",
     "output_type": "stream",
     "text": [
      "+-------+--------+---------------+--------------------+--------------+---------------+--------------------+------------+------+---------------+--------+\n",
      "|Trip ID|Duration|     Start Date|       Start Station|Start Terminal|       End Date|         End Station|End Terminal|Bike #|Subscriber Type|Zip Code|\n",
      "+-------+--------+---------------+--------------------+--------------+---------------+--------------------+------------+------+---------------+--------+\n",
      "| 913460|     765|8/31/2015 23:26|Harry Bridges Pla...|            50|8/31/2015 23:39|San Francisco Cal...|          70|   288|     Subscriber|    2139|\n",
      "| 913459|    1036|8/31/2015 23:11|San Antonio Shopp...|            31|8/31/2015 23:28|Mountain View Cit...|          27|    35|     Subscriber|   95032|\n",
      "| 913455|     307|8/31/2015 23:13|      Post at Kearny|            47|8/31/2015 23:18|   2nd at South Park|          64|   468|     Subscriber|   94107|\n",
      "| 913454|     409|8/31/2015 23:10|  San Jose City Hall|            10|8/31/2015 23:17| San Salvador at 1st|           8|    68|     Subscriber|   95113|\n",
      "| 913453|     789|8/31/2015 23:09|Embarcadero at Fo...|            51|8/31/2015 23:22|Embarcadero at Sa...|          60|   487|       Customer|    9069|\n",
      "| 913452|     293|8/31/2015 23:07|Yerba Buena Cente...|            68|8/31/2015 23:12|San Francisco Cal...|          70|   538|     Subscriber|   94118|\n",
      "| 913451|     896|8/31/2015 23:07|Embarcadero at Fo...|            51|8/31/2015 23:22|Embarcadero at Sa...|          60|   363|       Customer|   92562|\n",
      "| 913450|     255|8/31/2015 22:16|Embarcadero at Sa...|            60|8/31/2015 22:20|   Steuart at Market|          74|   470|     Subscriber|   94111|\n",
      "| 913449|     126|8/31/2015 22:12|     Beale at Market|            56|8/31/2015 22:15|Temporary Transba...|          55|   439|     Subscriber|   94130|\n",
      "| 913448|     932|8/31/2015 21:57|      Post at Kearny|            47|8/31/2015 22:12|South Van Ness at...|          66|   472|     Subscriber|   94702|\n",
      "| 913443|     691|8/31/2015 21:49|Embarcadero at Sa...|            60|8/31/2015 22:01|   Market at Sansome|          77|   434|     Subscriber|   94109|\n",
      "| 913442|     633|8/31/2015 21:44|      Market at 10th|            67|8/31/2015 21:54|San Francisco Cal...|          70|   531|     Subscriber|   94107|\n",
      "| 913441|     387|8/31/2015 21:39|       Market at 4th|            76|8/31/2015 21:46|Grant Avenue at C...|          73|   383|     Subscriber|   94104|\n",
      "| 913440|     281|8/31/2015 21:31|   Market at Sansome|            77|8/31/2015 21:36|Broadway St at Ba...|          82|   621|     Subscriber|   94107|\n",
      "| 913435|     424|8/31/2015 21:25|Temporary Transba...|            55|8/31/2015 21:33|San Francisco Cal...|          69|   602|     Subscriber|   94401|\n",
      "| 913434|     283|8/31/2015 21:19|San Francisco Cal...|            69|8/31/2015 21:24|     Townsend at 7th|          65|   521|     Subscriber|   94107|\n",
      "| 913433|     145|8/31/2015 21:17|University and Em...|            35|8/31/2015 21:20|Cowper at University|          37|    75|       Customer|    6907|\n",
      "| 913432|     703|8/31/2015 21:16|     Spear at Folsom|            49|8/31/2015 21:28|San Francisco Cal...|          69|   426|     Subscriber|   95032|\n",
      "| 913431|     605|8/31/2015 21:11|Temporary Transba...|            55|8/31/2015 21:21|Grant Avenue at C...|          73|   572|     Subscriber|   94133|\n",
      "| 913429|     902|8/31/2015 21:07|San Francisco Cal...|            70|8/31/2015 21:22|Broadway St at Ba...|          82|   501|     Subscriber|   94133|\n",
      "+-------+--------+---------------+--------------------+--------------+---------------+--------------------+------------+------+---------------+--------+\n",
      "only showing top 20 rows\n",
      "\n",
      "+----------+--------------------+---------+-----------+---------+------------+------------+\n",
      "|station_id|                name|      lat|       long|dockcount|    landmark|installation|\n",
      "+----------+--------------------+---------+-----------+---------+------------+------------+\n",
      "|         2|San Jose Diridon ...|37.329732|-121.901782|       27|    San Jose|    8/6/2013|\n",
      "|         3|San Jose Civic Ce...|37.330698|-121.888979|       15|    San Jose|    8/5/2013|\n",
      "|         4|Santa Clara at Al...|37.333988|-121.894902|       11|    San Jose|    8/6/2013|\n",
      "|         5|    Adobe on Almaden|37.331415|  -121.8932|       19|    San Jose|    8/5/2013|\n",
      "|         6|    San Pedro Square|37.336721|-121.894074|       15|    San Jose|    8/7/2013|\n",
      "|         7|Paseo de San Antonio|37.333798|-121.886943|       15|    San Jose|    8/7/2013|\n",
      "|         8| San Salvador at 1st|37.330165|-121.885831|       15|    San Jose|    8/5/2013|\n",
      "|         9|           Japantown|37.348742|-121.894715|       15|    San Jose|    8/5/2013|\n",
      "|        10|  San Jose City Hall|37.337391|-121.886995|       15|    San Jose|    8/6/2013|\n",
      "|        11|         MLK Library|37.335885| -121.88566|       19|    San Jose|    8/6/2013|\n",
      "|        12|SJSU 4th at San C...|37.332808|-121.883891|       19|    San Jose|    8/7/2013|\n",
      "|        13|       St James Park|37.339301|-121.889937|       15|    San Jose|    8/6/2013|\n",
      "|        14|Arena Green / SAP...|37.332692|-121.900084|       19|    San Jose|    8/5/2013|\n",
      "|        16|SJSU - San Salvad...|37.333955|-121.877349|       15|    San Jose|    8/7/2013|\n",
      "|        21|   Franklin at Maple|37.481758|-122.226904|       15|Redwood City|   8/12/2013|\n",
      "|        22|Redwood City Calt...|37.486078|-122.232089|       25|Redwood City|   8/15/2013|\n",
      "|        23|San Mateo County ...|37.487616|-122.229951|       15|Redwood City|   8/15/2013|\n",
      "|        24|Redwood City Publ...|37.484219|-122.227424|       15|Redwood City|   8/12/2013|\n",
      "|        25|Stanford in Redwo...| 37.48537|-122.203288|       15|Redwood City|   8/12/2013|\n",
      "|        26|Redwood City Medi...|37.487682|-122.223492|       15|Redwood City|   8/12/2013|\n",
      "+----------+--------------------+---------+-----------+---------+------------+------------+\n",
      "only showing top 20 rows\n",
      "\n"
     ]
    }
   ],
   "source": [
    "from pyspark.sql import SparkSession\n",
    "from pyspark.sql.functions import *\n",
    "\n",
    "spark = SparkSession.builder.getOrCreate()\n",
    "\n",
    "# csv 파일 읽기\n",
    "trip = spark.read.csv(\"data/trip-data/201508_trip_data.csv\", header=True)\n",
    "station = spark.read.csv(\"data/trip-data/201508_station_data.csv\", header=True)\n",
    "\n",
    "trip.show()\n",
    "station.show()"
   ]
  },
  {
   "cell_type": "code",
   "execution_count": 4,
   "metadata": {},
   "outputs": [
    {
     "name": "stdout",
     "output_type": "stream",
     "text": [
      "+-------------+--------------------------+\n",
      "|     landmark|count(DISTINCT station_id)|\n",
      "+-------------+--------------------------+\n",
      "|    Palo Alto|                         5|\n",
      "|San Francisco|                        35|\n",
      "|     San Jose|                        16|\n",
      "| Redwood City|                         7|\n",
      "|Mountain View|                         7|\n",
      "+-------------+--------------------------+\n",
      "\n"
     ]
    }
   ],
   "source": [
    "# landmark 집계 \n",
    "landmark = station.groupby('landmark').agg(countDistinct('station_id'))\n",
    "landmark.show()"
   ]
  },
  {
   "cell_type": "code",
   "execution_count": 5,
   "metadata": {},
   "outputs": [
    {
     "name": "stdout",
     "output_type": "stream",
     "text": [
      "+---------------+------------+-----------------+--------------+\n",
      "|Subscriber Type| sum(Bike #)|    avg(Duration)|count(Trip ID)|\n",
      "+---------------+------------+-----------------+--------------+\n",
      "|     Subscriber|1.31370297E8|597.2995870632493|        310217|\n",
      "|       Customer| 1.8421093E7|4214.454831000341|         43935|\n",
      "+---------------+------------+-----------------+--------------+\n",
      "\n"
     ]
    }
   ],
   "source": [
    "# Subscriber Type 집계\n",
    "subscriber = trip.groupby('Subscriber Type').agg(sum('Bike #'), avg('Duration'), count('Trip ID'))\n",
    "subscriber.show()"
   ]
  },
  {
   "cell_type": "code",
   "execution_count": 6,
   "metadata": {},
   "outputs": [
    {
     "name": "stdout",
     "output_type": "stream",
     "text": [
      "+--------------------+\n",
      "|count(DISTINCT name)|\n",
      "+--------------------+\n",
      "|                  68|\n",
      "+--------------------+\n",
      "\n"
     ]
    }
   ],
   "source": [
    "# 이너조인\n",
    "df_inner = trip.withColumn('name', col('Start Station')).join(station, on='name', how = 'inner').select(countDistinct('name'))\n",
    "df_inner.show()"
   ]
  },
  {
   "cell_type": "code",
   "execution_count": 10,
   "metadata": {},
   "outputs": [
    {
     "name": "stdout",
     "output_type": "stream",
     "text": [
      "+--------------------+\n",
      "|count(DISTINCT name)|\n",
      "+--------------------+\n",
      "|                   2|\n",
      "+--------------------+\n",
      "\n"
     ]
    }
   ],
   "source": [
    "# 안티조인\n",
    "df_anti = trip.withColumn('name', col('Start Station')).join(station, on='name', how = 'left_anti').select(countDistinct('name'))\n",
    "df_anti.show()"
   ]
  }
 ],
 "metadata": {
  "kernelspec": {
   "display_name": "Python 3",
   "language": "python",
   "name": "python3"
  },
  "language_info": {
   "codemirror_mode": {
    "name": "ipython",
    "version": 3
   },
   "file_extension": ".py",
   "mimetype": "text/x-python",
   "name": "python",
   "nbconvert_exporter": "python",
   "pygments_lexer": "ipython3",
   "version": "3.7.6"
  }
 },
 "nbformat": 4,
 "nbformat_minor": 4
}
