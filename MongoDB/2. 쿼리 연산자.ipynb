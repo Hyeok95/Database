{
 "cells": [
  {
   "cell_type": "markdown",
   "id": "74e0fbfb",
   "metadata": {},
   "source": [
    "## 쿼리 연산자\n",
    "\n",
    "점 표기법 : bson내부의 object에 접근하기 위한 방법\n",
    "\n",
    "### 비교연산자\n",
    "$eq (equals) 주어진 값과 일치하는 값\n",
    "\n",
    "$gt (greater than) 주어진 값보다 큰 값\n",
    "\n",
    "$gte (greather than or equals) 주어진 값보다 크거나 같은 값\n",
    "\n",
    "$lt (less than) 주어진 값보다 작은 값\n",
    "\n",
    "$lte (less than or equals) 주어진 값보다 작거나 같은 값\n",
    "\n",
    "$ne (not equal) 주어진 값과 일치하지 않는 값\n",
    "\n",
    "$in 주어진 배열 안에 속하는 값\n",
    "\n",
    "$nin 주어진 배열 안에 속하지 않는 값\n",
    "\n",
    "\n",
    "### 논리 연산자\n",
    "$or 주어진 조건 중 하나라도 true 일 때 true\n",
    "\n",
    "$and 주어진 모든 조건이 true 일 때 true >> 복합적일 때 자주 사용.\n",
    "\n",
    "$nor 주어진 조건 중 하나라도 false 일 때 true\n",
    "\n",
    "$not 주어진 조건이 false 일 때 true\n",
    "\n",
    "\n",
    "### 문자열 연산자\n",
    "$mod 필드에 modulo operation을 통해 특정 결과가 나온 Document를 선택한다.\n",
    "\n",
    "$regex 특정 정규 표현식과 맞는 Document를 선택한다\n",
    "\n",
    "$text 문자열 검색의 기능을 수행한다\n",
    "\n",
    "$where 자바스크립트로 알맞은 Document를 선택한다\n",
    "\n",
    "1.정규표현식 연산자(regex)\n",
    "{ <field>: { \"$regex\": 'pattern', \"$options\": '<options>' } }\n",
    "\n",
    "options / 설명\n",
    "\n",
    "i - 대소문자 무시\n",
    "\n",
    "m - 정규식에서 anchor(^) 를 사용할 때 값에 \\n 이 있다면 무력화\n",
    "\n",
    "x - 정규식 안에 있는 whitespace를 모두 무시\n",
    "\n",
    "s dot - (.) 사용 할 때 \\n 을 포함해서 매치\n",
    "\n",
    "2.Text 연산자\n",
    "\n",
    "{\"$text\": { \"$search\": <string>, \"$language\": <string>, \"$caseSensitive\": <boolean>, \"$diacriticSensitive\": <boolean> }}\n",
    "\n",
    "options / 설명\n",
    "    \n",
    "$search - 검색할 내용\n",
    "\n",
    "$language - 선택적.검색하는 언어\n",
    "    \n",
    "$caseSensitive - 선택적.False일 경우 대소문자 무시. False가 기본값\n",
    "\n",
    "$diacriticSensitive - 선택적. ğ와 g 같이 diacritical mark를 구분할지 선택. False가 기본값\n",
    "\n",
    "문자열 인덱스 설정\n",
    "    \n",
    "collection.create_index([('field', pymongo.TEXT)], default_language='english')\n",
    "컬렉션당 하나만 만들 수 있는 문자열 인덱스에서만 작동함\n",
    "안타깝게도 한국어는 문자열 인덱스로 지원하지 않음\n",
    "\n",
    "    \n",
    "### 배열 연산자\n",
    "    \n",
    "$all 순서와 상관없이 배열 안의 요소가 모두 포함되면 선택한다\n",
    "\n",
    "$elemMatch $elemMatch 조건과 맞는 배열 속 요소를 가진 Document를 선택한다.\n",
    "\n",
    "$size 해당 배열의 크기가 같은 Document를 선택한다."
   ]
  },
  {
   "cell_type": "markdown",
   "id": "171da34b",
   "metadata": {},
   "source": [
    "## 실습1. 점 표기법\n",
    "\n",
    "* 지시사항\n",
    "\n",
    "1. name의 last 값이 Cate인 하나의 사람 도큐먼트에서 skills 필드를 제거하세요.\n",
    "\n",
    "2. 수정한 도큐먼트를 pprint()로 출력하세요."
   ]
  },
  {
   "cell_type": "code",
   "execution_count": 2,
   "id": "5868d336",
   "metadata": {},
   "outputs": [],
   "source": [
    "import pymongo\n",
    "from pprint import pprint\n",
    "\n",
    "# 데이터베이스와 Collection을 생성하는 코드입니다. 수정하지 마세요!\n",
    "connection = pymongo.MongoClient(\"mongodb://localhost:27017/\")\n",
    "db = connection.get_database(\"profile\")\n",
    "col = db.get_collection(\"people\")\n",
    "\n",
    "# name의 last 값이 \"Cate\"인 하나의 사람 도큐먼트 조건을 작성하세요.\n",
    "query = {\"name.last\" : \"Cate\"}\n",
    "\n",
    "# 해당 도큐먼트를 수정하세요.\n",
    "result = col.update_many(query, {\"$unset\": {\"skills\": False}})\n",
    "\n",
    "# 수정한 도큐먼트를 조회하세요.\n",
    "cursor = col.find(query)\n",
    "\n",
    "# 앞선 결과를 출력하세요.\n",
    "for people in cursor:\n",
    "    pprint(people)"
   ]
  },
  {
   "cell_type": "markdown",
   "id": "2e8263ba",
   "metadata": {},
   "source": [
    "## 실습2-1. 비교 연산자\n",
    "\n",
    "1. date_received의 값은 예시와 같은 형식의 문자열로 저장되어 있습니다.(예시: \"2012-04-01\")\n",
    "\n",
    "2. date_received 값이 2015년도 혹은 2017년도가 아닌 책들을 모두 삭제하세요."
   ]
  },
  {
   "cell_type": "code",
   "execution_count": 8,
   "id": "fb903363",
   "metadata": {},
   "outputs": [
    {
     "name": "stdout",
     "output_type": "stream",
     "text": [
      "____자동출력: 삭제 후 남은 books의 모든 도큐먼트____\n",
      "{'_id': ObjectId('615be8dab02c2e24d41c01dd'), 'title': 'Harry Potter and the Deathly Hallows', 'author': 'Joanne Kathleen Rowling', 'publisher': 'Bloomsbury Publishing', 'date_received': '2017-07-21'}\n"
     ]
    }
   ],
   "source": [
    "#nin\n",
    "import pymongo\n",
    "from pprint import pprint\n",
    "import re\n",
    "\n",
    "# 데이터베이스와 Collection을 생성하는 코드입니다. 수정하지 마세요!\n",
    "connection = pymongo.MongoClient(\"mongodb://localhost:27017/\")\n",
    "db = connection.get_database(\"library\")\n",
    "col = db.get_collection(\"books\")\n",
    "\n",
    "# date_received 값이 2015년도 혹은 2017년도가 아닌 조건을 작성하세요.\n",
    "query = {\"date_received\" : {\"$nin\" : [re.compile(\"^2015\"), re.compile(\"^2017\")]}}\n",
    "\n",
    "# 조건에 맞는 도큐먼트를 삭제하세요.\n",
    "delete = col.delete_many(query)\n",
    "\n",
    "print('____자동출력: 삭제 후 남은 books의 모든 도큐먼트____')\n",
    "for x in col.find():\n",
    "    print(x)"
   ]
  },
  {
   "cell_type": "markdown",
   "id": "6e17a67c",
   "metadata": {},
   "source": [
    "## 실습2-2. 비교연산자\n",
    "\n",
    "1. date_received의 값은 다음과 같은 형식의 문자열로 저장되어 있습니다.(예시: \"2012-04-01\")\n",
    "\n",
    "2. date_received값이 2014년도부터 2017년도인 책들을 조회하세요.\n",
    "\n",
    "3. 그 책들의 '_id'와 'title' 필드만 도큐먼트 형식으로 for 문을 사용하여 pprint()로 출력해보세요."
   ]
  },
  {
   "cell_type": "code",
   "execution_count": 9,
   "id": "5b53d5fd",
   "metadata": {},
   "outputs": [
    {
     "name": "stdout",
     "output_type": "stream",
     "text": [
      "{'_id': ObjectId('615be8dab02c2e24d41c01dd'),\n",
      " 'title': 'Harry Potter and the Deathly Hallows'}\n"
     ]
    }
   ],
   "source": [
    "import pymongo\n",
    "from pprint import pprint\n",
    "\n",
    "# 데이터베이스와 Collection을 생성하는 코드입니다. 수정하지 마세요!\n",
    "connection = pymongo.MongoClient(\"mongodb://localhost:27017/\")\n",
    "db = connection.get_database(\"library\")\n",
    "col = db.get_collection(\"books\")\n",
    "\n",
    "# date_received 값이 2014년도부터 2017년도인 책들의 title 필드만 조회하세요.\n",
    "query = {\"date_received\" : {\"$gte\": \"2014-01-01\", \"$lte\": \"2017-12-31\"}}\n",
    "projection = {\"_id\" : True, \"title\" : True}\n",
    "cursor = col.find(query, projection)\n",
    "\n",
    "# books Collection에 들어있는 책들을 출력하세요.\n",
    "\n",
    "for book in cursor:\n",
    "    pprint(book)"
   ]
  },
  {
   "cell_type": "markdown",
   "id": "05cae3c4",
   "metadata": {},
   "source": [
    "## 실습3. 논리 연산자\n",
    "\n",
    "1. date_received의 값은 다음과 같은 형식의 문자열로 저장되어 있습니다. (예시: \"2012-04-01\")\n",
    "\n",
    "2. \"date_received\"가 2014년도 또는 2019년도인 책 도큐먼트를 찾으세요.\n",
    "\n",
    "3. 찾은 도큐먼트를 for 문을 사용해 pprint()로 출력하세요."
   ]
  },
  {
   "cell_type": "code",
   "execution_count": 10,
   "id": "807fcaff",
   "metadata": {},
   "outputs": [],
   "source": [
    "import pymongo\n",
    "from pprint import pprint\n",
    "\n",
    "# 데이터베이스와 Collection을 생성하는 코드입니다. 수정하지 마세요!\n",
    "connection = pymongo.MongoClient(\"mongodb://localhost:27017/\")\n",
    "db = connection.get_database(\"library\")\n",
    "col = db.get_collection(\"books\")\n",
    "\n",
    "# date_received가 2014년도인 책을 찾는 조건을 작성하세요.\n",
    "query1 = {\"date_received\" : {\"$regex\" : \"^2014\"}}\n",
    "# date_received가 2019년도인 책을 찾는 조건을 작성하세요.\n",
    "query2 = {\"date_received\" : {\"$regex\" : \"^2019\"}}\n",
    "# query1 또는 query2를 충족하는 책을 찾아주세요\n",
    "query = {\"$or\" : [query1, query2]}\n",
    "cursor = col.find(query)\n",
    "\n",
    "# books Collection에 들어있는 책들을 출력하세요.\n",
    "for book in cursor:\n",
    "    pprint(book)"
   ]
  },
  {
   "cell_type": "markdown",
   "id": "8d3f2def",
   "metadata": {},
   "source": [
    "## 실습4. 복합 논리 연산자\n",
    "\n",
    "1. date_received의 값은 다음과 같은 형식의 문자열로 저장되어 있습니다. (예시: \"2012-04-01\")\n",
    "\n",
    "2.다음 조건을 모두 만족시키는 책 도큐먼트를 찾으세요\n",
    "\n",
    "\"author\"가 \"Antoine de Saint-Exupery\" 또는 \"Ernest Miller Hemingway\"인 책\n",
    "\n",
    "\"date_received\"가 2014년도 또는 2019년도인 책\n",
    "\n",
    "3. 찾은 도큐먼트를 for 문을 사용해 pprint()로 출력하세요"
   ]
  },
  {
   "cell_type": "code",
   "execution_count": 11,
   "id": "3261dc13",
   "metadata": {},
   "outputs": [],
   "source": [
    "import pymongo\n",
    "from pprint import pprint\n",
    "\n",
    "# 데이터베이스와 Collection을 생성하는 코드입니다. 수정하지 마세요!\n",
    "connection = pymongo.MongoClient(\"mongodb://localhost:27017/\")\n",
    "db = connection.get_database(\"library\")\n",
    "col = db.get_collection(\"books\")\n",
    "\n",
    "# author가 \"Antoine de Saint-Exupery\" 또는 \"Ernest Miller Hemingway\"인 책을 찾는 조건을 작성하세요.\n",
    "query1 = {\"$or\" : [{\"author\" : \"Antoine de Saint-Exupery\"}, {\"author\" : \"Ernest Miller Hemingway\"}]}\n",
    "# \"date_received\"가 2014년도 또는 2019년도인 책을 찾는 조건을 작성하세요.\n",
    "query2 = {\"$or\" : [{\"date_received\" : {\"$regex\" : \"^2014\"}}, {\"date_received\" : {\"$regex\" : \"^2019\"}}]}\n",
    "# query1과 query2를 모두 충족하는 책을 찾아주세요.\n",
    "query = {\"$and\" : [query1, query2]}\n",
    "cursor = col.find(query)\n",
    "\n",
    "# books Collection에 들어있는 책들을 출력하세요.\n",
    "for book in cursor:\n",
    "    pprint(book)"
   ]
  },
  {
   "cell_type": "markdown",
   "id": "9a3de2a7",
   "metadata": {},
   "source": [
    "## 실습5. 문자열 연산자\n",
    "\n",
    "1. title 필드에 harry라는 문자열이 있는 책을 texttexttext 연산자를 활용해 찾으세요."
   ]
  },
  {
   "cell_type": "code",
   "execution_count": 12,
   "id": "3bbf7bdf",
   "metadata": {},
   "outputs": [
    {
     "name": "stdout",
     "output_type": "stream",
     "text": [
      "{'_id': ObjectId('615be8dab02c2e24d41c01dd'),\n",
      " 'author': 'Joanne Kathleen Rowling',\n",
      " 'date_received': '2017-07-21',\n",
      " 'publisher': 'Bloomsbury Publishing',\n",
      " 'title': 'Harry Potter and the Deathly Hallows'}\n"
     ]
    }
   ],
   "source": [
    "import pymongo\n",
    "from pprint import pprint\n",
    "\n",
    "# 데이터베이스와 Collection을 생성하는 코드입니다. 수정하지 마세요!\n",
    "connection = pymongo.MongoClient(\"mongodb://localhost:27017/\")\n",
    "db = connection.get_database(\"library\")\n",
    "col = db.get_collection(\"books\")\n",
    "\n",
    "# 텍스트 인덱스를 title 필드에 생성하는 코드입니다.\n",
    "col.create_index([('title', pymongo.TEXT)], default_language='english')\n",
    "\n",
    "# 제목에 harry가 있는 책을 $search 연산자를 활용해 조회하세요.\n",
    "query = {\"$text\" : {\"$search\" : \"harry\"}}\n",
    "cursor = col.find(query)\n",
    "\n",
    "# 결과를 출력합니다.\n",
    "for book in cursor:\n",
    "    pprint(book)"
   ]
  },
  {
   "cell_type": "markdown",
   "id": "5739fed2",
   "metadata": {},
   "source": [
    "## 실습6-1 배열연산자\n",
    "\n",
    "1. Python 언어의 level 값이 3인 skills를 가지고 있는 도큐먼트를 모두 출력하세요."
   ]
  },
  {
   "cell_type": "code",
   "execution_count": 13,
   "id": "c5278fff",
   "metadata": {},
   "outputs": [],
   "source": [
    "import pymongo\n",
    "from pprint import pprint\n",
    "\n",
    "# 데이터베이스와 Collection을 생성하는 코드입니다. 수정하지 마세요!\n",
    "connection = pymongo.MongoClient(\"mongodb://localhost:27017/\")\n",
    "db = connection.get_database(\"profile\")\n",
    "col = db.get_collection(\"people\")\n",
    "\n",
    "# Python 언어의 level 값이 3인 skills를 가지고 있는 사람 도큐먼트를 조회하세요.\n",
    "query = {\"skills\" : {\"$elemMatch\" : {\"name\" : \"Python\", \"level\" : 3}}}\n",
    "cursor = col.find(query)\n",
    "\n",
    "# 결과를 출력합니다.\n",
    "for people in cursor:\n",
    "    pprint(people)"
   ]
  },
  {
   "cell_type": "markdown",
   "id": "c2b3df45",
   "metadata": {},
   "source": [
    "## 실습6-2 배열연산자\n",
    "\n",
    "* 지시사항\n",
    "\n",
    "1. Ruby와 Python 프로그래밍 skills를 다룰 수 있는 사람 도큐먼트를 모두 출력하세요.\n",
    "\n",
    "2. 프로그래밍 skills를 4개 가진 사람 도큐먼트를 모두 출력하세요."
   ]
  },
  {
   "cell_type": "code",
   "execution_count": 14,
   "id": "486eddcc",
   "metadata": {},
   "outputs": [],
   "source": [
    "import pymongo\n",
    "from pprint import pprint\n",
    "\n",
    "# 데이터베이스와 Collection을 생성하는 코드입니다. 수정하지 마세요!\n",
    "connection = pymongo.MongoClient(\"mongodb://localhost:27017/\")\n",
    "db = connection.get_database(\"profile\")\n",
    "col = db.get_collection(\"people\")\n",
    "\n",
    "# Ruby와 Python 프로그래밍 skills를 다룰 수 있는 사람 도큐먼트를 조회\n",
    "query = {\"skills.name\" : {\"$all\" : [\"Ruby\", \"Python\"] }}\n",
    "cursor = col.find(query)\n",
    "\n",
    "# 결과를 출력합니다.\n",
    "for people in cursor:\n",
    "    pprint(people)\n",
    "\n",
    "# # 프로그래밍 skills을 4개 가진 사람 도큐먼트들을 검색\n",
    "query = {\"skills\" : {\"$size\" : 4}}\n",
    "cursor = col.find(query)\n",
    "\n",
    "# 결과를 출력합니다.\n",
    "for people in cursor:\n",
    "    pprint(people)"
   ]
  },
  {
   "cell_type": "code",
   "execution_count": null,
   "id": "e1a91028",
   "metadata": {},
   "outputs": [],
   "source": []
  }
 ],
 "metadata": {
  "kernelspec": {
   "display_name": "Python 3",
   "language": "python",
   "name": "python3"
  },
  "language_info": {
   "codemirror_mode": {
    "name": "ipython",
    "version": 3
   },
   "file_extension": ".py",
   "mimetype": "text/x-python",
   "name": "python",
   "nbconvert_exporter": "python",
   "pygments_lexer": "ipython3",
   "version": "3.8.8"
  }
 },
 "nbformat": 4,
 "nbformat_minor": 5
}
