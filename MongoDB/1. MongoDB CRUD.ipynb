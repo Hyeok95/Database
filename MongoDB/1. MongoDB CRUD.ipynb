{
 "cells": [
  {
   "cell_type": "markdown",
   "id": "987b8f43",
   "metadata": {},
   "source": [
    "# MongoDB CRUD\n",
    "\n",
    "MongoDB(가장 유명한 NoSQL DBMS)\n",
    "\n",
    "DB 접속> use myDatabase\n",
    "정보 저장> db.initialCollection.insertOne({hello: \"world\"})\n",
    "정보 확인> db.initialCollection.find()\n",
    "\n",
    "NoSQL: 전통적인 관계형 데이터베이스보다 덜 제한적인 일관성 모델을 제공하는 DB\n",
    "DBMS: 데이터를 저장하고 관리하는 시스템(DB)\n",
    "\n",
    "분산 컴퓨팅의 방식\n",
    "1. 복제: 복사하여 저장하는 방식(안정성을 높이는 방식)\n",
    "2. 샤딩: 성능을 향상하기 위한 방식(읽기,쓰기 성능 향상 가능)\n",
    "\n",
    "MongoDB가 JS를 사용해서 얻은 특징\n",
    "1. 웹 개발자에게 쉬운 입문이 가능하다\n",
    "2. BSON 자료형 사용\n",
    "3. 내부 명령어를 JS 형식으로 사용\n",
    "\n",
    "Pymongo\n",
    "\n",
    "import pymongo\n",
    "connection = pymongo.MongoClient(\"mongodb://localhost:27017/\")\n",
    "db = connection.get_database(\"testDB\") >> 데이터베이스\n",
    "collection = db.get_collection(\"testCollection\") >> 컬럭션\n",
    "collection.insert_one({ \"hello\": \"world\" }) >> 도큐먼트\n",
    "db.list(collection.find() >> 컬렉션 조회\n",
    "\n",
    "BSON 구조 예시(python으로 표현)\n",
    "from bson import ObjectId\n",
    "from datetime import datetime\n",
    "collection.insert_one({\n",
    "\"_id\": ObjectId(\"542c2b97bac0595474108b48\"), >>objectid\n",
    "\"name\": {\"first\": \"sue\", \"last\": \"Turing\" }, >> object\n",
    "\"age\": 26, >> int\n",
    "\"is_alive\": True, >> boolean\n",
    "\"groups\": [\"news\", \"sports\"], >> Array\n",
    "\"viewTime\": datetime(2017, 10, 24, 5, 2, 46) >> Date\n",
    "})\n",
    "\n",
    "\n",
    "* 도큐먼트 생성\n",
    "1.하나의 도큐먼트 삽입\n",
    "from pprint import pprint\n",
    "result = collection.insert_one({ document })\n",
    "print(result.inserted_id)\n",
    "pprint(result.inserted_id)\n",
    "\n",
    "2. 다수의 도큐먼트 삽입\n",
    "result = collection.insert_many(\n",
    "[ { document }, { document }, ... ]\n",
    ")\n",
    "print(result.inserted_ids)\n",
    "\n",
    "* 도큐먼트 검색\n",
    "result = collection.find({ query },{ projection })\n",
    "print(result)\n",
    "print(list(result))\n",
    "* cursor로 반환 >> 커서란 쿼리 결과에 대한 포인터(위치정보만 반환하여 작업을 효율적으로함)\n",
    "\n",
    "* 도큐먼트 수정\n",
    "1. 하나의 도큐먼트 수정\n",
    "result = collection.update_one({ query },{ update },upsert:Boolean)\n",
    "print(result.matched_count) >> 찾은 도큐먼트 수\n",
    "print(result.modified_count) >> 변경된 도큐먼트 수\n",
    "\n",
    "2. 다수의 도큐먼트 수정\n",
    "result = collection.update_many({ query },{ update },upsert:Boolean)\n",
    "print(result.matched_count) >> 찾은 도큐먼트 수\n",
    "print(result.modified_count) >> 변경된 도큐먼트 수\n",
    "\n",
    " 특정 필드 업데이트하기\n",
    "inventory.update_one({\"item\": \"canvas\"},{\"$set\": {\"qty\": 10} })\n",
    "\n",
    " 특정 필드를 제거\n",
    "% inventory.update_one({\"item\": \"canvas\"},{\"$unset\": {\"qty\": True} }\n",
    "\n",
    "* 해당되는 도큐먼트가 없다면 새로 추가하기\n",
    "inventory.update_one({ \"item\": \"flash\" },{ \"$set\": {\"size\": {\"h\": 10, \"w\": 8},\"status\": \"F\"} },True)\n",
    "\n",
    "\n",
    "* 도큐먼트 삭제\n",
    "result = collection.delete_one({ query })\n",
    "print(result.deleted_count)"
   ]
  },
  {
   "cell_type": "markdown",
   "id": "90cf41f4",
   "metadata": {},
   "source": [
    "## 예제1.  컬렉션 생성하기"
   ]
  },
  {
   "cell_type": "code",
   "execution_count": 2,
   "id": "01bd146e",
   "metadata": {},
   "outputs": [
    {
     "name": "stdout",
     "output_type": "stream",
     "text": [
      "['books']\n"
     ]
    }
   ],
   "source": [
    "import pymongo\n",
    "\n",
    "# 데이터베이스를 생성하는 코드입니다. 수정하지 마세요!\n",
    "connection = pymongo.MongoClient(\"mongodb://localhost:27017/\")\n",
    "db = connection.get_database(\"library\")\n",
    "\n",
    "# 컬렉션을 생성하세요.\n",
    "col = db.get_collection('books')\n",
    "\n",
    "# 데이터를 삽입하는 코드: 컬렉션이 잘 생성되었는지 확인하기 위해서는 반드시 아래 주석을 해제하세요.\n",
    "data = col.insert_one({ \"title\": \"Harry Potter and the Deathly Hallows\", \"author\": \"Joanne Kathleen Rowling\",\"publisher\": \"Bloomsbury Publishing\" ,\"date_received\": \"2017-07-21\"})\n",
    "\n",
    "# 컬렉션 목록을 reuslt 리스트에 저장하세요.\n",
    "result = db.list_collection_names()\n",
    "\n",
    "# 값을 잘 저장하였는지 확인하기 위한 코드입니다. 수정하지 마세요!\n",
    "print(result)"
   ]
  },
  {
   "cell_type": "markdown",
   "id": "b7452275",
   "metadata": {},
   "source": [
    "## 실습1. 여러 데이터 삽입하기(C)"
   ]
  },
  {
   "cell_type": "code",
   "execution_count": 3,
   "id": "45262948",
   "metadata": {},
   "outputs": [
    {
     "name": "stdout",
     "output_type": "stream",
     "text": [
      "[ObjectId('615be900b02c2e24d41c01df'),\n",
      " ObjectId('615be900b02c2e24d41c01e0'),\n",
      " ObjectId('615be900b02c2e24d41c01e1')]\n"
     ]
    }
   ],
   "source": [
    "import pymongo\n",
    "from pprint import pprint\n",
    "\n",
    "\n",
    "# 데이터베이스와 컬렉션을 생성하는 코드입니다. 수정하지 마세요!\n",
    "connection = pymongo.MongoClient(\"mongodb://localhost:27017/\")\n",
    "db = connection.get_database(\"library\")\n",
    "col = db.get_collection(\"books\")\n",
    "\n",
    "# 새로 들어온 책들입니다. 리스트로 묶어 선언하세요.\n",
    "new_book1 = {\"title\": \"Alice\\'s Adventures in Wonderland\", \"author\": \"Lewis Carroll\", \"publisher\": \"Macmillan\", \"date_received\": \"2015-11-26\"}\n",
    "new_book2 = {\"title\": \"The Old Man and the Sea\", \"author\": \"Ernest Miller Hemingway\",\"publisher\": \"Charles Scribner\\'s Sons\" ,\"date_received\": \"2014-11-02\"}\n",
    "new_book3 = {\"title\": \"The Great Gatsby\", \"author\": \"Francis Scott Key Fitzgerald\", \"date_received\": \"2019-01-12\"}\n",
    "\n",
    "\n",
    "# 데이터를 만들고 삽입하세요.\n",
    "result = col.insert_many([new_book1, new_book2, new_book3])\n",
    "\n",
    "# 삽입된 데이터 id들을 출력하세요.\n",
    "pprint(result.inserted_ids)"
   ]
  },
  {
   "cell_type": "markdown",
   "id": "6a4416b4",
   "metadata": {},
   "source": [
    "## 실습2. 데이터 검색하기(R)"
   ]
  },
  {
   "cell_type": "code",
   "execution_count": 4,
   "id": "ebf23adf",
   "metadata": {},
   "outputs": [
    {
     "name": "stdout",
     "output_type": "stream",
     "text": [
      "{'author': 'Lewis Carroll',\n",
      " 'date_received': '2015-11-26',\n",
      " 'publisher': 'Macmillan',\n",
      " 'title': \"Alice's Adventures in Wonderland\"}\n",
      "{'author': 'Ernest Miller Hemingway',\n",
      " 'date_received': '2014-11-02',\n",
      " 'publisher': \"Charles Scribner's Sons\",\n",
      " 'title': 'The Old Man and the Sea'}\n",
      "{'author': 'Francis Scott Key Fitzgerald',\n",
      " 'date_received': '2019-01-12',\n",
      " 'title': 'The Great Gatsby'}\n",
      "{'author': 'Joanne Kathleen Rowling',\n",
      " 'date_received': '2017-07-21',\n",
      " 'publisher': 'Bloomsbury Publishing',\n",
      " 'title': 'Harry Potter and the Deathly Hallows'}\n",
      "{'author': 'Lewis Carroll',\n",
      " 'date_received': '2015-11-26',\n",
      " 'publisher': 'Macmillan',\n",
      " 'title': \"Alice's Adventures in Wonderland\"}\n",
      "{'author': 'Ernest Miller Hemingway',\n",
      " 'date_received': '2014-11-02',\n",
      " 'publisher': \"Charles Scribner's Sons\",\n",
      " 'title': 'The Old Man and the Sea'}\n",
      "{'author': 'Francis Scott Key Fitzgerald',\n",
      " 'date_received': '2019-01-12',\n",
      " 'title': 'The Great Gatsby'}\n"
     ]
    }
   ],
   "source": [
    "import pymongo\n",
    "from pprint import pprint\n",
    "\n",
    "\n",
    "# 데이터베이스와 컬렉션을 생성하는 코드입니다. 수정하지 마세요!\n",
    "connection = pymongo.MongoClient(\"mongodb://localhost:27017/\")\n",
    "db = connection.get_database(\"library\")\n",
    "col = db.get_collection(\"books\")\n",
    "\n",
    "# pprint를 이용해 데이터를 보기 좋게 출력하세요.\n",
    "projection = {\"_id\" : False}\n",
    "cursor = col.find({}, projection)\n",
    "for doc in cursor:\n",
    "    pprint(doc)"
   ]
  },
  {
   "cell_type": "markdown",
   "id": "e14dfe7e",
   "metadata": {},
   "source": [
    "## 실습3. 여러 데이터 수정하기(U)\n",
    "\n",
    "* 지시사항\n",
    "\n",
    "데이터베이스에서 title이 Harry Potter로 시작하는 책들의 author를 Joanne Kathleen Rowling으로 수정하세요.\n",
    "\n",
    "update_book 변수를 이용해 몇 권의 책이 수정되었는지 print() 명령어로 확인하세요."
   ]
  },
  {
   "cell_type": "code",
   "execution_count": 3,
   "id": "29ebe134",
   "metadata": {},
   "outputs": [
    {
     "name": "stdout",
     "output_type": "stream",
     "text": [
      "0\n",
      "{'_id': ObjectId('615be8dab02c2e24d41c01dd'), 'title': 'Harry Potter and the Deathly Hallows', 'author': 'Joanne Kathleen Rowling', 'publisher': 'Bloomsbury Publishing', 'date_received': '2017-07-21'}\n"
     ]
    }
   ],
   "source": [
    "import pymongo\n",
    "\n",
    "# 데이터베이스와 컬렉션을 생성하는 코드입니다. 수정하지 마세요!\n",
    "connection = pymongo.MongoClient(\"mongodb://localhost:27017/\")\n",
    "db = connection.get_database(\"library\")\n",
    "col = db.get_collection(\"books\")\n",
    "\n",
    "# 잘못 입력된 책 작가를 수정하기 위한 딕셔너리를 만드세요.\n",
    "update = ({\"$set\": {\"author\" : \"Joanne Kathleen Rowling\"}})\n",
    "query = { \"title\": { \"$regex\": \"^Harry Potter\" } }\n",
    "\n",
    "# 잘못 입력된 책 작가를 수정하세요.\n",
    "# myquery = { \"필드명\": { \"$regex\": \"^찾고자 하는 내용\" } }\n",
    "update_book = col.update_many(query, update)\n",
    "\n",
    "# 몇 권의 책이 수정되었는지 확인하세요.\n",
    "print(update_book.modified_count)\n",
    "\n",
    "# 책이 잘 수정되었는지 확인하는 코드입니다. 수정하지 마세요!\n",
    "for x in col.find(query):\n",
    "    print(x)"
   ]
  },
  {
   "cell_type": "markdown",
   "id": "921bad6a",
   "metadata": {},
   "source": [
    "## 실습4. 여러 데이터 삭제하기\n",
    "\n",
    "* 지시사항\n",
    "\n",
    "데이터베이스에서 date_received가 2015로 시작하는 책들을 삭제하세요.\n",
    "\n",
    "delete_book 변수를 이용해 몇 권의 책이 삭제되었는지 출력하세요."
   ]
  },
  {
   "cell_type": "code",
   "execution_count": 7,
   "id": "dd64f481",
   "metadata": {},
   "outputs": [
    {
     "name": "stdout",
     "output_type": "stream",
     "text": [
      "0\n",
      "____자동출력:삭제 후 남은 도큐먼트들____\n",
      "{'title': 'The Old Man and the Sea', 'author': 'Ernest Miller Hemingway', 'publisher': \"Charles Scribner's Sons\", 'date_received': '2014-11-02'}\n",
      "{'title': 'The Great Gatsby', 'author': 'Francis Scott Key Fitzgerald', 'date_received': '2019-01-12'}\n",
      "{'title': 'Harry Potter and the Deathly Hallows', 'author': 'Joanne Kathleen Rowling', 'publisher': 'Bloomsbury Publishing', 'date_received': '2017-07-21'}\n",
      "{'title': 'The Old Man and the Sea', 'author': 'Ernest Miller Hemingway', 'publisher': \"Charles Scribner's Sons\", 'date_received': '2014-11-02'}\n",
      "{'title': 'The Great Gatsby', 'author': 'Francis Scott Key Fitzgerald', 'date_received': '2019-01-12'}\n"
     ]
    }
   ],
   "source": [
    "import pymongo\n",
    "\n",
    "\n",
    "# 데이터베이스와 컬렉션을 생성하는 코드입니다. 수정하지 마세요!\n",
    "connection = pymongo.MongoClient(\"mongodb://localhost:27017/\")\n",
    "db = connection.get_database(\"library\")\n",
    "col = db.get_collection(\"books\")\n",
    "\n",
    "# 2015년에 받은 책을 삭제하기 위한 쿼리를 만드세요.\n",
    "query = {\"date_received\": {\"$regex\" : \"^2015\"}}\n",
    "\n",
    "# 데이터베이스에서 2015년도에 받았던 책들을 삭제하세요.\n",
    "delete_book = col.delete_many(query)\n",
    "\n",
    "# 몇 권의 책이 삭제되었는지 확인하세요.\n",
    "print(delete_book.deleted_count)\n",
    "print(\"____자동출력:삭제 후 남은 도큐먼트들____\")\n",
    "for x in col.find({},{\"_id\": False}):\n",
    "    print(x)"
   ]
  },
  {
   "cell_type": "code",
   "execution_count": null,
   "id": "f2ed6698",
   "metadata": {},
   "outputs": [],
   "source": []
  }
 ],
 "metadata": {
  "kernelspec": {
   "display_name": "Python 3",
   "language": "python",
   "name": "python3"
  },
  "language_info": {
   "codemirror_mode": {
    "name": "ipython",
    "version": 3
   },
   "file_extension": ".py",
   "mimetype": "text/x-python",
   "name": "python",
   "nbconvert_exporter": "python",
   "pygments_lexer": "ipython3",
   "version": "3.8.8"
  }
 },
 "nbformat": 4,
 "nbformat_minor": 5
}
